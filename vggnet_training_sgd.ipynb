{
 "cells": [
  {
   "cell_type": "code",
   "execution_count": null,
   "metadata": {
    "colab": {
     "base_uri": "https://localhost:8080/"
    },
    "id": "ycLyMxUMlLzt",
    "outputId": "517e9725-7549-4a95-d468-0286eb4384c7"
   },
   "outputs": [
    {
     "name": "stdout",
     "output_type": "stream",
     "text": [
      "concatenated.png\t     __pycache__\n",
      "data\t\t\t     resnet_training_script_adam.ipynb\n",
      "datasets.py\t\t     temp3.jpg\n",
      "datasets_vggnet.py\t     temp4.jpg\n",
      "Features\t\t     training_data_adam\n",
      "Features_Extraction.ipynb    training_data_resnet_adam\n",
      "initializations.py\t     training_data_sgd\n",
      "lenet.py\t\t     training_data_vggnet\n",
      "lenet_training_script.ipynb  vggnet_training_adam.ipynb\n",
      "MNIST\t\t\t     vggnet_training_script_sgd.ipynb\n",
      "MNIST.tar.gz.1\t\t     vggnet_training_sgd.ipynb\n",
      "Files already downloaded and verified\n",
      "Files already downloaded and verified\n"
     ]
    }
   ],
   "source": [
    "import torch\n",
    "from torch.utils.data import Dataset\n",
    "from torchvision import datasets\n",
    "from torchvision.transforms import ToTensor, Lambda, Compose\n",
    "import torchvision.models as models\n",
    "import numpy as np\n",
    "from copy import deepcopy\n",
    "\n",
    "import matplotlib.pyplot as plt\n",
    "from random import randint\n",
    "from torchvision.datasets import MNIST\n",
    "\n",
    "import time\n",
    "\n",
    "import os\n",
    "!ls\n",
    "os.chdir(\"/content/drive/MyDrive/Saravanan/\")\n",
    "from datasets import return_dataset\n",
    "[[mnist_train, mnist_test], [fashionmnist_train, fashionmnist_test], [cifar10_train, cifar10_test]] = return_dataset()\n",
    "datasets = [[mnist_train, mnist_test], [fashionmnist_train, fashionmnist_test], [cifar10_train, cifar10_test]]\n",
    "\n",
    "from initializations import initialize, negative_model, distorted_model\n",
    "\n"
   ]
  },
  {
   "cell_type": "code",
   "execution_count": null,
   "metadata": {
    "colab": {
     "base_uri": "https://localhost:8080/"
    },
    "id": "VyM9kojtlQ7C",
    "outputId": "bee0a2ef-3fbd-40bc-85b5-5a63277eb7d3"
   },
   "outputs": [
    {
     "name": "stdout",
     "output_type": "stream",
     "text": [
      "Files already downloaded and verified\n",
      "Files already downloaded and verified\n"
     ]
    }
   ],
   "source": [
    "#get data\n",
    "from datasets import return_dataset\n",
    "[[mnist_train, mnist_test], [fashionmnist_train, fashionmnist_test], [cifar10_train, cifar10_test]] = return_dataset()\n",
    "datasets = [[mnist_train, mnist_test], [fashionmnist_train, fashionmnist_test], [cifar10_train, cifar10_test]]\n",
    "\n",
    "from initializations import initialize, negative_model, distorted_model\n",
    "\n"
   ]
  },
  {
   "cell_type": "code",
   "execution_count": null,
   "metadata": {
    "colab": {
     "base_uri": "https://localhost:8080/",
     "height": 35
    },
    "id": "793FfNXnnnPT",
    "outputId": "8ef5f48e-52d0-4d34-a8ab-57c266595fc2"
   },
   "outputs": [
    {
     "data": {
      "application/vnd.google.colaboratory.intrinsic+json": {
       "type": "string"
      },
      "text/plain": [
       "'done'"
      ]
     },
     "execution_count": 47,
     "metadata": {
      "tags": []
     },
     "output_type": "execute_result"
    }
   ],
   "source": [
    "def run_train(model, traindata, testdata, \n",
    "              lr=0.005, momemntum=0.9, epochsnum=20, batch_size=128, num_workers=2,\n",
    "              rootadd = \"/content/drive/MyDrive/Saravanan/vgg_cifar/\",\n",
    "              save_epochs=[]):\n",
    "\n",
    "  name = model.name + '-init=' + model.initname + \"-on-\" + traindata.name + '-' + str(epochsnum) + \"epochs\" + \"-\" + model.optimizer\n",
    "  folderadd = rootadd + name\n",
    "  \n",
    "  \n",
    "  # check folder does not exsit\n",
    "  trynumber = 2\n",
    "  testadd = folderadd\n",
    "  while path.exists(testadd):\n",
    "    testadd = folderadd + '_try' + str(trynumber)\n",
    "    trynumber += 1\n",
    "  folderadd = testadd + \"/\"\n",
    "  mkdir(folderadd)\n",
    "\n",
    "  initadd = folderadd + \"initial_model.pt\"\n",
    "  torch.save(model, initadd)\n",
    "\n",
    "\n",
    "\n",
    "  trainloader = torch.utils.data.DataLoader(traindata, batch_size=batch_size,\n",
    "                                          shuffle=True, num_workers=num_workers)\n",
    "  testloader = torch.utils.data.DataLoader(testdata, batch_size=batch_size,\n",
    "                                         shuffle=False, num_workers=num_workers)\n",
    "  dataloaders_dict = {'train': trainloader, 'val': testloader}\n",
    "  \n",
    "  criterion = torch.nn.CrossEntropyLoss()\n",
    "  optimizer = torch.optim.SGD(model.parameters(), lr=lr, momentum=momemntum)\n",
    "  \n",
    "\n",
    "  model.to(device)\n",
    "  print('\\n' * 3)\n",
    "  print(name + '\\n' + '='*len(name))\n",
    "  model, test_history, train_history = train_model(model=model, dataloaders=dataloaders_dict,\n",
    "                    criterion=criterion, optimizer=optimizer, num_epochs=epochsnum,\n",
    "                    folder=folderadd, save_epochs=save_epochs)\n",
    "\n",
    "  model.traindata = traindata.name\n",
    "  model.train_history = train_history\n",
    "  model.test_history = test_history\n",
    "  model.epochs_trained = epochsnum  \n",
    "\n",
    "  # save model\n",
    "  modeladd = folderadd[:-1] + \".pt\"\n",
    "  torch.save(model, modeladd)\n",
    "  return model\n",
    "'done'"
   ]
  },
  {
   "cell_type": "code",
   "execution_count": null,
   "metadata": {
    "colab": {
     "base_uri": "https://localhost:8080/"
    },
    "id": "YtbCCup0qIhO",
    "outputId": "c59b7866-dc38-429a-e3c2-e0cd24c08c1c"
   },
   "outputs": [
    {
     "name": "stdout",
     "output_type": "stream",
     "text": [
      "\n",
      "\n",
      "\n",
      "\n",
      "vgg19-init=kaiming_uniform-on-cifar_trn-2epochs-sgd\n",
      "===================================================\n",
      "Epoch 0/1\n",
      "----------\n",
      "train Loss: 2.2778 Acc: 0.1467\n",
      "val Loss: 1.8620 Acc: 0.2413\n",
      "\n",
      "saved epoch 0 on g19-init=kaiming_uniform-on-cifar_trn-2epochs-sgd/epoch_0.pt\n",
      "Epoch 1/1\n",
      "----------\n",
      "train Loss: 1.7076 Acc: 0.3281\n",
      "val Loss: 1.5234 Acc: 0.4179\n",
      "\n",
      "Training complete in 1m 50s\n",
      "Best val Acc: 0.417900\n",
      "\n",
      "\n",
      "\n",
      "\n",
      "vgg19-init=negative_kaiming_uniform-on-cifar_trn-2epochs-sgd\n",
      "============================================================\n",
      "Epoch 0/1\n",
      "----------\n",
      "train Loss: 2.8431 Acc: 0.0985\n",
      "val Loss: 2.3375 Acc: 0.1000\n",
      "\n",
      "saved epoch 0 on negative_kaiming_uniform-on-cifar_trn-2epochs-sgd/epoch_0.pt\n",
      "Epoch 1/1\n",
      "----------\n",
      "train Loss: 2.3352 Acc: 0.1009\n",
      "val Loss: 2.3132 Acc: 0.1000\n",
      "\n",
      "Training complete in 1m 48s\n",
      "Best val Acc: 0.100000\n",
      "\n",
      "\n",
      "\n",
      "\n",
      "vgg19-init=distorted_kaiming_uniform-on-cifar_trn-2epochs-sgd\n",
      "=============================================================\n",
      "Epoch 0/1\n",
      "----------\n",
      "train Loss: 1.3880 Acc: 0.4882\n",
      "val Loss: 1.2154 Acc: 0.5627\n",
      "\n",
      "saved epoch 0 on istorted_kaiming_uniform-on-cifar_trn-2epochs-sgd/epoch_0.pt\n",
      "Epoch 1/1\n",
      "----------\n",
      "train Loss: 1.1450 Acc: 0.5893\n",
      "val Loss: 1.0757 Acc: 0.6230\n",
      "\n",
      "Training complete in 1m 51s\n",
      "Best val Acc: 0.623000\n",
      "\n",
      "\n",
      "\n",
      "\n",
      "vgg19-init=kaiming_normal-on-cifar_trn-2epochs-sgd\n",
      "==================================================\n",
      "Epoch 0/1\n",
      "----------\n",
      "train Loss: 2.3601 Acc: 0.1585\n",
      "val Loss: 1.8552 Acc: 0.3126\n",
      "\n",
      "saved epoch 0 on gg19-init=kaiming_normal-on-cifar_trn-2epochs-sgd/epoch_0.pt\n",
      "Epoch 1/1\n",
      "----------\n",
      "train Loss: 1.6935 Acc: 0.3547\n",
      "val Loss: 1.4429 Acc: 0.4587\n",
      "\n",
      "Training complete in 1m 50s\n",
      "Best val Acc: 0.458700\n",
      "\n",
      "\n",
      "\n",
      "\n",
      "vgg19-init=negative_kaiming_normal-on-cifar_trn-2epochs-sgd\n",
      "===========================================================\n",
      "Epoch 0/1\n",
      "----------\n",
      "train Loss: 3.0510 Acc: 0.0998\n",
      "val Loss: 2.3178 Acc: 0.1000\n",
      "\n",
      "saved epoch 0 on =negative_kaiming_normal-on-cifar_trn-2epochs-sgd/epoch_0.pt\n",
      "Epoch 1/1\n",
      "----------\n",
      "train Loss: 2.3344 Acc: 0.0989\n",
      "val Loss: 2.3180 Acc: 0.1000\n",
      "\n",
      "Training complete in 1m 47s\n",
      "Best val Acc: 0.100000\n",
      "\n",
      "\n",
      "\n",
      "\n",
      "vgg19-init=distorted_kaiming_normal-on-cifar_trn-2epochs-sgd\n",
      "============================================================\n",
      "Epoch 0/1\n",
      "----------\n",
      "train Loss: 1.4153 Acc: 0.4820\n",
      "val Loss: 1.2585 Acc: 0.5403\n",
      "\n",
      "saved epoch 0 on distorted_kaiming_normal-on-cifar_trn-2epochs-sgd/epoch_0.pt\n",
      "Epoch 1/1\n",
      "----------\n",
      "train Loss: 1.2266 Acc: 0.5589\n",
      "val Loss: 1.0862 Acc: 0.6136\n",
      "\n",
      "Training complete in 1m 51s\n",
      "Best val Acc: 0.613600\n"
     ]
    }
   ],
   "source": [
    "# train models\n",
    "device = torch.device(\"cuda:0\" if torch.cuda.is_available() else \"cpu\")\n",
    "\n",
    "initlist = [ 'kaiming_uniform', 'kaiming_normal']\n",
    "# datasets = [[mnist_train, mnist_test], [fashionmnist_train, fashionmnist_test], [cifar10_train, cifar10_test]]\n",
    "\n",
    "epochsnum = 20\n",
    "lr = 0.005\n",
    "momemntum=0.9\n",
    "batch_size=512\n",
    "num_workers=2\n",
    "save_epochs = [x for x in range(epochsnum) if x%5 == 0]\n",
    "\n",
    "features_size = 512\n",
    "classes_size = 10\n",
    "\n",
    "\n",
    "for initname in initlist:\n",
    "    if initname == 'pre_trained':\n",
    "      model = models.vgg19(pretrained=True)\n",
    "      model.name = 'vgg19'\n",
    "      model.optimizer = 'sgd'\n",
    "      model.fc = torch.nn.Linear(features_size, classes_size, bias=True)\n",
    "      model.initname = initname\n",
    "    else:\n",
    "      model = models.vgg19(pretrained=False)\n",
    "      model.name = 'vgg19'\n",
    "      model.optimizer = 'sgd'\n",
    "      model.fc = torch.nn.Linear(features_size, classes_size, bias=True)\n",
    "\n",
    "      initialize(model, initname)\n",
    "\n",
    "    for data in datasets:\n",
    "\n",
    "      finalmodel = run_train(model=model, traindata=data[0], testdata=data[1],\n",
    "                epochsnum=epochsnum, save_epochs=save_epochs)\n",
    "      if initlist=='pretrained':\n",
    "        pass\n",
    "      else:\n",
    "        negativemodel = negative_model(finalmodel)\n",
    "        run_train(model=negativemodel, traindata=data[0], testdata=data[1],\n",
    "                epochsnum=epochsnum, save_epochs=save_epochs)\n",
    "      \n",
    "      distortedmodel = distorted_model(finalmodel)\n",
    "      run_train(model=distortedmodel, traindata=data[0], testdata=data[1],\n",
    "                epochsnum=epochsnum, save_epochs=save_epochs)\n"
   ]
  },
  {
   "cell_type": "code",
   "execution_count": null,
   "metadata": {
    "id": "0WTvKY2kiVZE"
   },
   "outputs": [],
   "source": []
  },
  {
   "cell_type": "code",
   "execution_count": null,
   "metadata": {
    "id": "UsvTA6C1iUXS"
   },
   "outputs": [],
   "source": []
  }
 ],
 "metadata": {
  "accelerator": "GPU",
  "colab": {
   "collapsed_sections": [],
   "name": "vggnet_training_sgd.ipynb",
   "provenance": []
  },
  "kernelspec": {
   "display_name": "Python 3",
   "language": "python",
   "name": "python3"
  },
  "language_info": {
   "codemirror_mode": {
    "name": "ipython",
    "version": 3
   },
   "file_extension": ".py",
   "mimetype": "text/x-python",
   "name": "python",
   "nbconvert_exporter": "python",
   "pygments_lexer": "ipython3",
   "version": "3.8.8"
  }
 },
 "nbformat": 4,
 "nbformat_minor": 1
}
