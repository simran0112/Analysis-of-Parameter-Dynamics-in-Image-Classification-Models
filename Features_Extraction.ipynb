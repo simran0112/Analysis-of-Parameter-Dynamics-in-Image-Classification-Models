{
 "cells": [
  {
   "cell_type": "code",
   "execution_count": null,
   "metadata": {
    "id": "b4Hdj87NmjJx"
   },
   "outputs": [],
   "source": [
    "#import libs here\n",
    "import torch\n",
    "from torch.utils.data import Dataset\n",
    "from torchvision import datasets\n",
    "from torchvision.transforms import ToTensor, Lambda, Compose\n",
    "import torchvision.models as models\n",
    "import numpy as np\n",
    "from copy import deepcopy\n",
    "from glob import glob\n",
    "import os\n",
    "\n",
    "import matplotlib.pyplot as plt\n",
    "from random import randint\n",
    "\n",
    "import time\n",
    "os.chdir(\"/content/drive/MyDrive/Saravanan/\")\n",
    "from initializations import initialize, negative_model, distorted_model"
   ]
  },
  {
   "cell_type": "code",
   "execution_count": null,
   "metadata": {
    "colab": {
     "base_uri": "https://localhost:8080/"
    },
    "id": "J1VxOp-5nwBa",
    "outputId": "d1d41e07-42b3-4b30-95d7-98fe06d238a8"
   },
   "outputs": [
    {
     "name": "stdout",
     "output_type": "stream",
     "text": [
      "Files already downloaded and verified\n",
      "Files already downloaded and verified\n"
     ]
    }
   ],
   "source": [
    "# get datasets\n",
    "from datasets import return_dataset\n",
    "[[mnist_train, mnist_test], [fashionmnist_train, fashionmnist_test], [cifar10_train, cifar10_test]] = return_dataset()\n",
    "datasets = [[mnist_train, mnist_test], [fashionmnist_train, fashionmnist_test], [cifar10_train, cifar10_test]]\n"
   ]
  },
  {
   "cell_type": "code",
   "execution_count": null,
   "metadata": {
    "colab": {
     "base_uri": "https://localhost:8080/",
     "height": 54
    },
    "id": "prYM8I5Rtudq",
    "outputId": "43e825b9-2eec-48b0-e0be-a27e89bdc349"
   },
   "outputs": [
    {
     "name": "stdout",
     "output_type": "stream",
     "text": [
      "device is  cuda:0\n"
     ]
    },
    {
     "data": {
      "application/vnd.google.colaboratory.intrinsic+json": {
       "type": "string"
      },
      "text/plain": [
       "'done'"
      ]
     },
     "execution_count": 3,
     "metadata": {
      "tags": []
     },
     "output_type": "execute_result"
    }
   ],
   "source": [
    "device = torch.device(\"cuda:0\" if torch.cuda.is_available() else \"cpu\")\n",
    "print(\"device is \", device)\n",
    "\n",
    "def get_predictions(model, inputs):\n",
    "  model = model.to(device)\n",
    "  inputs = inputs.to(device)\n",
    "\n",
    "  outputs = model(inputs)\n",
    "  _, preds = torch.max(outputs, 1)\n",
    "\n",
    "  return preds\n",
    "\n",
    "\n",
    "def get_features_predictions_accuracy(model, testdata, features_size, num_workers=2):\n",
    "  \n",
    "  #define loader\n",
    "  batch_size=512  \n",
    "  testloader = torch.utils.data.DataLoader(testdata, batch_size=batch_size, \n",
    "                        shuffle=False, num_workers=num_workers, pin_memory=True)\n",
    "  \n",
    "  # change the last later to empty to extract features\n",
    "  featuremodel = deepcopy(model)\n",
    "  featuremodel.fc_backup = model.fc\n",
    "  featuremodel.fc = torch.nn.Sequential()\n",
    "  \n",
    "  \n",
    "  model = model.to(device)\n",
    "  featuremodel = featuremodel.to(device)\n",
    "  model.eval()\n",
    "  featuremodel.eval()\n",
    "\n",
    "  datasize = len(testdata)\n",
    "  features = torch.empty(0).to(device)  \n",
    "  predicts = torch.empty(0).to(device)  \n",
    "  running_corrects = 0\n",
    "\n",
    "  ind = 0\n",
    "  start = time.time()\n",
    "  with torch.no_grad():\n",
    "    for inputs, labels in testloader:      \n",
    "      inputs = inputs.to(device)\n",
    "      labels = labels.to(device)\n",
    "\n",
    "      output = featuremodel(inputs).squeeze(0).double()      \n",
    "      features = torch.cat((features, output))\n",
    "\n",
    "      batch_preds = get_predictions(model, inputs)      \n",
    "      running_corrects += torch.sum(batch_preds == labels.data)\n",
    "      predicts = torch.cat((predicts, batch_preds))\n",
    "\n",
    "  accuracy = running_corrects / datasize\n",
    "  print('get feature and predict run time is ', round(time.time() - start, 3))\n",
    "\n",
    "  return features, predicts, accuracy\n",
    "\n",
    "'done'"
   ]
  },
  {
   "cell_type": "code",
   "execution_count": null,
   "metadata": {
    "colab": {
     "base_uri": "https://localhost:8080/",
     "height": 37
    },
    "id": "qBuIBphb-pL3",
    "outputId": "751bf65e-e840-494f-bc2a-fb99a6f264f8"
   },
   "outputs": [
    {
     "data": {
      "application/vnd.google.colaboratory.intrinsic+json": {
       "type": "string"
      },
      "text/plain": [
       "'done'"
      ]
     },
     "execution_count": 10,
     "metadata": {
      "tags": []
     },
     "output_type": "execute_result"
    }
   ],
   "source": [
    "# save files\n",
    "\n",
    "def get_and_save_info(inroot, outroot, featuresize=512):\n",
    "\n",
    "  inaddresses = glob(\"/content/drive/MyDrive/Saravanan/lost_vgg_sgd_trained_data/vgg19-init=*\")\n",
    "  print(inaddresses)\n",
    "  print(len(inaddresses))\n",
    "  for inadd in inaddresses:\n",
    "    namelist = inadd.split('/')\n",
    "    name = namelist[-1]\n",
    "    name = name.replace('.pt', '')\n",
    "    print(\"\\n\\n\", name, '\\n' + '='*len(name) )\n",
    "\n",
    "    model = torch.load(inadd)\n",
    "\n",
    "    if 'fmnist' in model.traindata:\n",
    "      data = fashionmnist_test\n",
    "    elif ('mnist' in model.traindata) and ('fmnist' not in model.traindata):\n",
    "      data = mnist_test\n",
    "    elif 'cifar' in model.traindata:\n",
    "      data = cifar10_test\n",
    "\n",
    "    features, predictions, acc = get_features_predictions_accuracy(model=model, testdata=data, features_size=featuresize)\n",
    "    \n",
    "    print('match accuracie:', acc, max(model.test_history))\n",
    "\n",
    "    outadd = outroot + name\n",
    "\n",
    "    torch.save(features, outadd + '_features.pt')\n",
    "    torch.save(predictions, outadd + '_predictions.pt')\n",
    "\n",
    "'done'"
   ]
  },
  {
   "cell_type": "code",
   "execution_count": null,
   "metadata": {
    "colab": {
     "base_uri": "https://localhost:8080/"
    },
    "id": "isbzWWI9-qiK",
    "outputId": "19803c36-03ac-4e17-ac68-fcd65f3df491"
   },
   "outputs": [
    {
     "name": "stdout",
     "output_type": "stream",
     "text": [
      "['/content/drive/MyDrive/Saravanan/lost_vgg_sgd_trained_data/vgg19-init=kaiming_uniform-on-mnist_trn-20epochs-sgd.pt', '/content/drive/MyDrive/Saravanan/lost_vgg_sgd_trained_data/vgg19-init=negative_kaiming_uniform-on-mnist_trn-20epochs-sgd.pt', '/content/drive/MyDrive/Saravanan/lost_vgg_sgd_trained_data/vgg19-init=distorted_kaiming_uniform-on-mnist_trn-20epochs-sgd.pt', '/content/drive/MyDrive/Saravanan/lost_vgg_sgd_trained_data/vgg19-init=kaiming_uniform-on-fmnist_trn-20epochs-sgd.pt', '/content/drive/MyDrive/Saravanan/lost_vgg_sgd_trained_data/vgg19-init=negative_kaiming_uniform-on-fmnist_trn-20epochs-sgd.pt', '/content/drive/MyDrive/Saravanan/lost_vgg_sgd_trained_data/vgg19-init=distorted_kaiming_uniform-on-fmnist_trn-20epochs-sgd.pt', '/content/drive/MyDrive/Saravanan/lost_vgg_sgd_trained_data/vgg19-init=kaiming_uniform-on-cifar_trn-20epochs-sgd.pt', '/content/drive/MyDrive/Saravanan/lost_vgg_sgd_trained_data/vgg19-init=negative_kaiming_uniform-on-cifar_trn-20epochs-sgd.pt', '/content/drive/MyDrive/Saravanan/lost_vgg_sgd_trained_data/vgg19-init=distorted_kaiming_uniform-on-cifar_trn-20epochs-sgd.pt', '/content/drive/MyDrive/Saravanan/lost_vgg_sgd_trained_data/vgg19-init=kaiming_normal-on-mnist_trn-20epochs-sgd.pt', '/content/drive/MyDrive/Saravanan/lost_vgg_sgd_trained_data/vgg19-init=negative_kaiming_normal-on-mnist_trn-20epochs-sgd.pt', '/content/drive/MyDrive/Saravanan/lost_vgg_sgd_trained_data/vgg19-init=distorted_kaiming_normal-on-mnist_trn-20epochs-sgd.pt', '/content/drive/MyDrive/Saravanan/lost_vgg_sgd_trained_data/vgg19-init=kaiming_normal-on-fmnist_trn-20epochs-sgd.pt', '/content/drive/MyDrive/Saravanan/lost_vgg_sgd_trained_data/vgg19-init=negative_kaiming_normal-on-fmnist_trn-20epochs-sgd.pt', '/content/drive/MyDrive/Saravanan/lost_vgg_sgd_trained_data/vgg19-init=distorted_kaiming_normal-on-fmnist_trn-20epochs-sgd.pt', '/content/drive/MyDrive/Saravanan/lost_vgg_sgd_trained_data/vgg19-init=kaiming_normal-on-cifar_trn-20epochs-sgd.pt', '/content/drive/MyDrive/Saravanan/lost_vgg_sgd_trained_data/vgg19-init=negative_kaiming_normal-on-cifar_trn-20epochs-sgd.pt', '/content/drive/MyDrive/Saravanan/lost_vgg_sgd_trained_data/vgg19-init=distorted_kaiming_normal-on-cifar_trn-20epochs-sgd.pt']\n",
      "18\n",
      "\n",
      "\n",
      " vgg19-init=kaiming_uniform-on-mnist_trn-20epochs-sgd \n",
      "====================================================\n",
      "get feature and predict run time is  4.755\n",
      "match accuracie: tensor(0.9947, device='cuda:0') tensor(0.9947, device='cuda:0', dtype=torch.float64)\n",
      "\n",
      "\n",
      " vgg19-init=negative_kaiming_uniform-on-mnist_trn-20epochs-sgd \n",
      "=============================================================\n",
      "get feature and predict run time is  4.612\n",
      "match accuracie: tensor(0.9918, device='cuda:0') tensor(0.9918, device='cuda:0', dtype=torch.float64)\n",
      "\n",
      "\n",
      " vgg19-init=distorted_kaiming_uniform-on-mnist_trn-20epochs-sgd \n",
      "==============================================================\n",
      "get feature and predict run time is  4.819\n",
      "match accuracie: tensor(0.9946, device='cuda:0') tensor(0.9946, device='cuda:0', dtype=torch.float64)\n",
      "\n",
      "\n",
      " vgg19-init=kaiming_uniform-on-fmnist_trn-20epochs-sgd \n",
      "=====================================================\n",
      "get feature and predict run time is  4.922\n",
      "match accuracie: tensor(0.9250, device='cuda:0') tensor(0.9250, device='cuda:0', dtype=torch.float64)\n",
      "\n",
      "\n",
      " vgg19-init=negative_kaiming_uniform-on-fmnist_trn-20epochs-sgd \n",
      "==============================================================\n",
      "get feature and predict run time is  4.283\n",
      "match accuracie: tensor(0.1000, device='cuda:0') tensor(0.1000, device='cuda:0', dtype=torch.float64)\n",
      "\n",
      "\n",
      " vgg19-init=distorted_kaiming_uniform-on-fmnist_trn-20epochs-sgd \n",
      "===============================================================\n",
      "get feature and predict run time is  4.932\n",
      "match accuracie: tensor(0.9279, device='cuda:0') tensor(0.9279, device='cuda:0', dtype=torch.float64)\n",
      "\n",
      "\n",
      " vgg19-init=kaiming_uniform-on-cifar_trn-20epochs-sgd \n",
      "====================================================\n",
      "get feature and predict run time is  4.87\n",
      "match accuracie: tensor(0.7652, device='cuda:0') tensor(0.7652, device='cuda:0', dtype=torch.float64)\n",
      "\n",
      "\n",
      " vgg19-init=negative_kaiming_uniform-on-cifar_trn-20epochs-sgd \n",
      "=============================================================\n",
      "get feature and predict run time is  4.297\n",
      "match accuracie: tensor(0.1000, device='cuda:0') tensor(0.1000, device='cuda:0', dtype=torch.float64)\n",
      "\n",
      "\n",
      " vgg19-init=distorted_kaiming_uniform-on-cifar_trn-20epochs-sgd \n",
      "==============================================================\n",
      "get feature and predict run time is  4.848\n",
      "match accuracie: tensor(0.7700, device='cuda:0') tensor(0.7700, device='cuda:0', dtype=torch.float64)\n",
      "\n",
      "\n",
      " vgg19-init=kaiming_normal-on-mnist_trn-20epochs-sgd \n",
      "===================================================\n",
      "get feature and predict run time is  4.945\n",
      "match accuracie: tensor(0.9936, device='cuda:0') tensor(0.9936, device='cuda:0', dtype=torch.float64)\n",
      "\n",
      "\n",
      " vgg19-init=negative_kaiming_normal-on-mnist_trn-20epochs-sgd \n",
      "============================================================\n",
      "get feature and predict run time is  6.953\n",
      "match accuracie: tensor(0.1135, device='cuda:0') tensor(0.1135, device='cuda:0', dtype=torch.float64)\n",
      "\n",
      "\n",
      " vgg19-init=distorted_kaiming_normal-on-mnist_trn-20epochs-sgd \n",
      "=============================================================\n",
      "get feature and predict run time is  5.88\n",
      "match accuracie: tensor(0.9947, device='cuda:0') tensor(0.9947, device='cuda:0', dtype=torch.float64)\n",
      "\n",
      "\n",
      " vgg19-init=kaiming_normal-on-fmnist_trn-20epochs-sgd \n",
      "====================================================\n",
      "get feature and predict run time is  4.882\n",
      "match accuracie: tensor(0.9245, device='cuda:0') tensor(0.9245, device='cuda:0', dtype=torch.float64)\n",
      "\n",
      "\n",
      " vgg19-init=negative_kaiming_normal-on-fmnist_trn-20epochs-sgd \n",
      "=============================================================\n",
      "get feature and predict run time is  4.322\n",
      "match accuracie: tensor(0.1000, device='cuda:0') tensor(0.1000, device='cuda:0', dtype=torch.float64)\n",
      "\n",
      "\n",
      " vgg19-init=distorted_kaiming_normal-on-fmnist_trn-20epochs-sgd \n",
      "==============================================================\n",
      "get feature and predict run time is  4.88\n",
      "match accuracie: tensor(0.9278, device='cuda:0') tensor(0.9278, device='cuda:0', dtype=torch.float64)\n",
      "\n",
      "\n",
      " vgg19-init=kaiming_normal-on-cifar_trn-20epochs-sgd \n",
      "===================================================\n",
      "get feature and predict run time is  4.898\n",
      "match accuracie: tensor(0.7624, device='cuda:0') tensor(0.7624, device='cuda:0', dtype=torch.float64)\n",
      "\n",
      "\n",
      " vgg19-init=negative_kaiming_normal-on-cifar_trn-20epochs-sgd \n",
      "============================================================\n",
      "get feature and predict run time is  4.298\n",
      "match accuracie: tensor(0.1000, device='cuda:0') tensor(0.1000, device='cuda:0', dtype=torch.float64)\n",
      "\n",
      "\n",
      " vgg19-init=distorted_kaiming_normal-on-cifar_trn-20epochs-sgd \n",
      "=============================================================\n",
      "get feature and predict run time is  4.984\n",
      "match accuracie: tensor(0.7706, device='cuda:0') tensor(0.7706, device='cuda:0', dtype=torch.float64)\n"
     ]
    }
   ],
   "source": [
    "inputroot = \"/content/drive/MyDrive/Saravanan/lost_vgg_sgd_trained_data/\"\n",
    "outputroot = \"/content/drive/MyDrive/Saravanan/Vggnet_features_sgd/\"\n",
    "\n",
    "get_and_save_info(inputroot, outputroot)"
   ]
  },
  {
   "cell_type": "code",
   "execution_count": null,
   "metadata": {
    "colab": {
     "base_uri": "https://localhost:8080/"
    },
    "id": "9oetimsH-yLv",
    "outputId": "f075e3cc-9555-4dce-99d9-2813eedc5e9f"
   },
   "outputs": [
    {
     "name": "stdout",
     "output_type": "stream",
     "text": [
      "'vgg19-init=distorted_kaiming_normal-on-cifar_trn-20epochs-sgd_features.pt'\n",
      "'vgg19-init=distorted_kaiming_normal-on-cifar_trn-20epochs-sgd_predictions.pt'\n",
      "'vgg19-init=distorted_kaiming_normal-on-fmnist_trn-20epochs-sgd_features.pt'\n",
      "'vgg19-init=distorted_kaiming_normal-on-fmnist_trn-20epochs-sgd_predictions.pt'\n",
      "'vgg19-init=distorted_kaiming_normal-on-mnist_trn-20epochs-sgd_features.pt'\n",
      "'vgg19-init=distorted_kaiming_normal-on-mnist_trn-20epochs-sgd_predictions.pt'\n",
      "'vgg19-init=distorted_kaiming_uniform-on-cifar_trn-20epochs-sgd_features.pt'\n",
      "'vgg19-init=distorted_kaiming_uniform-on-cifar_trn-20epochs-sgd_predictions.pt'\n",
      "'vgg19-init=distorted_kaiming_uniform-on-fmnist_trn-20epochs-sgd_features.pt'\n",
      "'vgg19-init=distorted_kaiming_uniform-on-fmnist_trn-20epochs-sgd_predictions.pt'\n",
      "'vgg19-init=distorted_kaiming_uniform-on-mnist_trn-20epochs-sgd_features.pt'\n",
      "'vgg19-init=distorted_kaiming_uniform-on-mnist_trn-20epochs-sgd_predictions.pt'\n",
      "'vgg19-init=kaiming_normal-on-cifar_trn-20epochs-sgd_features.pt'\n",
      "'vgg19-init=kaiming_normal-on-cifar_trn-20epochs-sgd_predictions.pt'\n",
      "'vgg19-init=kaiming_normal-on-fmnist_trn-20epochs-sgd_features.pt'\n",
      "'vgg19-init=kaiming_normal-on-fmnist_trn-20epochs-sgd_predictions.pt'\n",
      "'vgg19-init=kaiming_normal-on-mnist_trn-20epochs-sgd_features.pt'\n",
      "'vgg19-init=kaiming_normal-on-mnist_trn-20epochs-sgd_predictions.pt'\n",
      "'vgg19-init=kaiming_uniform-on-cifar_trn-20epochs-sgd_features.pt'\n",
      "'vgg19-init=kaiming_uniform-on-cifar_trn-20epochs-sgd_predictions.pt'\n",
      "'vgg19-init=kaiming_uniform-on-fmnist_trn-20epochs-sgd_features.pt'\n",
      "'vgg19-init=kaiming_uniform-on-fmnist_trn-20epochs-sgd_predictions.pt'\n",
      "'vgg19-init=kaiming_uniform-on-mnist_trn-20epochs-sgd_features.pt'\n",
      "'vgg19-init=kaiming_uniform-on-mnist_trn-20epochs-sgd_predictions.pt'\n",
      "'vgg19-init=negative_kaiming_normal-on-cifar_trn-20epochs-sgd_features.pt'\n",
      "'vgg19-init=negative_kaiming_normal-on-cifar_trn-20epochs-sgd_predictions.pt'\n",
      "'vgg19-init=negative_kaiming_normal-on-fmnist_trn-20epochs-sgd_features.pt'\n",
      "'vgg19-init=negative_kaiming_normal-on-fmnist_trn-20epochs-sgd_predictions.pt'\n",
      "'vgg19-init=negative_kaiming_normal-on-mnist_trn-20epochs-sgd_features.pt'\n",
      "'vgg19-init=negative_kaiming_normal-on-mnist_trn-20epochs-sgd_predictions.pt'\n",
      "'vgg19-init=negative_kaiming_uniform-on-cifar_trn-20epochs-sgd_features.pt'\n",
      "'vgg19-init=negative_kaiming_uniform-on-cifar_trn-20epochs-sgd_predictions.pt'\n",
      "'vgg19-init=negative_kaiming_uniform-on-fmnist_trn-20epochs-sgd_features.pt'\n",
      "'vgg19-init=negative_kaiming_uniform-on-fmnist_trn-20epochs-sgd_predictions.pt'\n",
      "'vgg19-init=negative_kaiming_uniform-on-mnist_trn-20epochs-sgd_features.pt'\n",
      "'vgg19-init=negative_kaiming_uniform-on-mnist_trn-20epochs-sgd_predictions.pt'\n"
     ]
    }
   ],
   "source": [
    "os.chdir(\"/content/drive/MyDrive/Saravanan/Vggnet_features_sgd\")\n",
    "!ls"
   ]
  }
 ],
 "metadata": {
  "accelerator": "GPU",
  "colab": {
   "collapsed_sections": [],
   "name": "Features_Extraction.ipynb",
   "provenance": []
  },
  "kernelspec": {
   "display_name": "Python 3",
   "language": "python",
   "name": "python3"
  },
  "language_info": {
   "codemirror_mode": {
    "name": "ipython",
    "version": 3
   },
   "file_extension": ".py",
   "mimetype": "text/x-python",
   "name": "python",
   "nbconvert_exporter": "python",
   "pygments_lexer": "ipython3",
   "version": "3.8.8"
  }
 },
 "nbformat": 4,
 "nbformat_minor": 1
}
